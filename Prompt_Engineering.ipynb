{
  "nbformat": 4,
  "nbformat_minor": 0,
  "metadata": {
    "colab": {
      "provenance": [],
      "gpuType": "T4"
    },
    "kernelspec": {
      "name": "python3",
      "display_name": "Python 3"
    },
    "language_info": {
      "name": "python"
    },
    "accelerator": "GPU"
  },
  "cells": [
    {
      "cell_type": "markdown",
      "source": [
        "# Basic Setup"
      ],
      "metadata": {
        "id": "HqidRoS99xd3"
      }
    },
    {
      "cell_type": "code",
      "source": [
        "import requests"
      ],
      "metadata": {
        "id": "kNcf8F_1FVu2"
      },
      "execution_count": 51,
      "outputs": []
    },
    {
      "cell_type": "code",
      "source": [
        "# define the together.ai API url\n",
        "url = \"https://api.together.xyz/inference\""
      ],
      "metadata": {
        "id": "gG2NuFU_8SGb"
      },
      "execution_count": 15,
      "outputs": []
    },
    {
      "cell_type": "code",
      "source": [
        "together_api_key = \"1b479644a409cbdc18e2501c2a9752ef471131472c74acb48b57c5442c4e68d5\""
      ],
      "metadata": {
        "id": "wubNdJVN8vUj"
      },
      "execution_count": 16,
      "outputs": []
    },
    {
      "cell_type": "code",
      "source": [
        "# Store keywords that will be passed to the API\n",
        "headers = {\n",
        "    \"Authorization\": f\"Bearer {together_api_key}\",\n",
        "    \"Content-Type\": \"application/json\"}"
      ],
      "metadata": {
        "id": "Zf4wIxPT8_JA"
      },
      "execution_count": 17,
      "outputs": []
    },
    {
      "cell_type": "markdown",
      "source": [
        "We use the Llama 2 7b chat model"
      ],
      "metadata": {
        "id": "B5L0AYtl-E3y"
      }
    },
    {
      "cell_type": "code",
      "source": [
        "# Choose the model to call\n",
        "model=\"togethercomputer/llama-2-7b-chat\""
      ],
      "metadata": {
        "id": "bMXuD7Dl9Ekm"
      },
      "execution_count": 18,
      "outputs": []
    },
    {
      "cell_type": "markdown",
      "source": [
        "# Helper Functions"
      ],
      "metadata": {
        "id": "zl1ljPtnGCho"
      }
    },
    {
      "cell_type": "markdown",
      "source": [
        "Helper function to design the json prompt"
      ],
      "metadata": {
        "id": "oAwQDmW8GFJ5"
      }
    },
    {
      "cell_type": "code",
      "source": [
        "def jsonData(model, prompt, temperature, max_tokens):\n",
        "  data = {\n",
        "      \"model\": model,\n",
        "      \"prompt\": prompt,\n",
        "      \"temperature\": temperature,\n",
        "      \"max_tokens\": max_tokens\n",
        "  }\n",
        "  return data"
      ],
      "metadata": {
        "id": "GE1V88HjGJOr"
      },
      "execution_count": 58,
      "outputs": []
    },
    {
      "cell_type": "markdown",
      "source": [
        "Helper Function to generate AI Response"
      ],
      "metadata": {
        "id": "9jcCcv8SFYRL"
      }
    },
    {
      "cell_type": "code",
      "source": [
        "def ai_response(data):\n",
        "  response = requests.post(url,\n",
        "                         headers=headers,\n",
        "                         json=data)\n",
        "  Response = response.json()['output']['choices'][0]['text']\n",
        "  return Response"
      ],
      "metadata": {
        "id": "9_h0gqTHFJ6a"
      },
      "execution_count": 50,
      "outputs": []
    },
    {
      "cell_type": "markdown",
      "source": [
        "# Prompt designing"
      ],
      "metadata": {
        "id": "kXlMompd-JSg"
      }
    },
    {
      "cell_type": "markdown",
      "source": [
        "# Context Based Prompting"
      ],
      "metadata": {
        "id": "XUr1NdV_D7Cx"
      }
    },
    {
      "cell_type": "code",
      "source": [
        "context = \"IIT Kanpur was established by an Act of Parliament in 1960 by the Government of India. The institute was started in December 1959 in a room in the canteen building of the Harcourt Butler Technological Institute at Agricultural Gardens in Kanpur. In 1963, the institute moved to its present location, on the Grand Trunk Road near Kalyanpur locality in Kanpur district.[6] The campus was designed by Achyut Kavinde in a modernist style. During the first ten years of its existence, a consortium of nine US universities (namely MIT, University of California at Berkeley, California Institute of Technology, Princeton University, Carnegie Mellon University, University of Michigan, Ohio State University, Case Western Reserve University and Purdue University) helped set up IIT Kanpur research laboratories and academic programmes under the Kanpur Indo-American Programme (KIAP).[7] The first director of the institute was P. K. Kelkar (after whom the Central Library was renamed in 2002).[8] Under the guidance of economist John Kenneth Galbraith, IIT Kanpur was the first institute in India to offer Computer science education.[8][9] The earliest computer course was started at the institute in August 1963 on an IBM 1620 system. The initiative for computer education came from the Electrical engineering department, then under the chairmanship of Prof. H.K. Kesavan, who was concurrently the chairman of Electrical Engineering and head of the Computer Centre. Prof. Harry Huskey of the University of California, Berkeley, who preceded Kesavan, helped[8] with the computer activity at IIT-Kanpur.[8] In 1971, the institute began an independent academic program in Computer Science and Engineering, leading to MTech and PhD degrees.[8] In 1972 the KIAP program ended, in part because of political tensions between India and Pakistan (as the USA supported Pakistan). Government funding was also reduced as a reaction to the sentiment that the IITs were contributing to the brain drain.\""
      ],
      "metadata": {
        "id": "wGJsOmRz_VIF"
      },
      "execution_count": 27,
      "outputs": []
    },
    {
      "cell_type": "code",
      "source": [
        "prompt_1 = f\"\"\"\n",
        "  Given the below context, what was the first program in IIT Kanpur?\n",
        "  context : {context}\n",
        "\"\"\""
      ],
      "metadata": {
        "id": "J7CE9SY6-gTF"
      },
      "execution_count": 28,
      "outputs": []
    },
    {
      "cell_type": "code",
      "source": [
        "# Add instruction tags to the prompt\n",
        "prompt = f\"[INST]{prompt_1}[/INST]\"\n",
        "print(prompt)"
      ],
      "metadata": {
        "colab": {
          "base_uri": "https://localhost:8080/"
        },
        "id": "obc1s9is9JzC",
        "outputId": "75ac48e6-ab7e-4405-a9ba-259fd0b20d71"
      },
      "execution_count": 29,
      "outputs": [
        {
          "output_type": "stream",
          "name": "stdout",
          "text": [
            "[INST]\n",
            "  Given the below context, what was the first program in IIT Kanpur?\n",
            "  context : IIT Kanpur was established by an Act of Parliament in 1960 by the Government of India. The institute was started in December 1959 in a room in the canteen building of the Harcourt Butler Technological Institute at Agricultural Gardens in Kanpur. In 1963, the institute moved to its present location, on the Grand Trunk Road near Kalyanpur locality in Kanpur district.[6] The campus was designed by Achyut Kavinde in a modernist style. During the first ten years of its existence, a consortium of nine US universities (namely MIT, University of California at Berkeley, California Institute of Technology, Princeton University, Carnegie Mellon University, University of Michigan, Ohio State University, Case Western Reserve University and Purdue University) helped set up IIT Kanpur research laboratories and academic programmes under the Kanpur Indo-American Programme (KIAP).[7] The first director of the institute was P. K. Kelkar (after whom the Central Library was renamed in 2002).[8] Under the guidance of economist John Kenneth Galbraith, IIT Kanpur was the first institute in India to offer Computer science education.[8][9] The earliest computer course was started at the institute in August 1963 on an IBM 1620 system. The initiative for computer education came from the Electrical engineering department, then under the chairmanship of Prof. H.K. Kesavan, who was concurrently the chairman of Electrical Engineering and head of the Computer Centre. Prof. Harry Huskey of the University of California, Berkeley, who preceded Kesavan, helped[8] with the computer activity at IIT-Kanpur.[8] In 1971, the institute began an independent academic program in Computer Science and Engineering, leading to MTech and PhD degrees.[8] In 1972 the KIAP program ended, in part because of political tensions between India and Pakistan (as the USA supported Pakistan). Government funding was also reduced as a reaction to the sentiment that the IITs were contributing to the brain drain.\n",
            "[/INST]\n"
          ]
        }
      ]
    },
    {
      "cell_type": "code",
      "source": [
        "data = jsonData(model, prompt, temperature=0, max_tokens = 1024)"
      ],
      "metadata": {
        "id": "G21PUYne9OO4"
      },
      "execution_count": 59,
      "outputs": []
    },
    {
      "cell_type": "code",
      "source": [
        "data"
      ],
      "metadata": {
        "colab": {
          "base_uri": "https://localhost:8080/"
        },
        "id": "TsgkZjRLGfC1",
        "outputId": "15b3e51b-8bd8-44d3-a8cf-f0103badadf5"
      },
      "execution_count": 60,
      "outputs": [
        {
          "output_type": "execute_result",
          "data": {
            "text/plain": [
              "{'model': 'togethercomputer/llama-2-7b-chat',\n",
              " 'prompt': '[INST]\\n  Given the below context, what was the first program in IIT Kanpur?\\n  context : IIT Kanpur was established by an Act of Parliament in 1960 by the Government of India. The institute was started in December 1959 in a room in the canteen building of the Harcourt Butler Technological Institute at Agricultural Gardens in Kanpur. In 1963, the institute moved to its present location, on the Grand Trunk Road near Kalyanpur locality in Kanpur district.[6] The campus was designed by Achyut Kavinde in a modernist style. During the first ten years of its existence, a consortium of nine US universities (namely MIT, University of California at Berkeley, California Institute of Technology, Princeton University, Carnegie Mellon University, University of Michigan, Ohio State University, Case Western Reserve University and Purdue University) helped set up IIT Kanpur research laboratories and academic programmes under the Kanpur Indo-American Programme (KIAP).[7] The first director of the institute was P. K. Kelkar (after whom the Central Library was renamed in 2002).[8] Under the guidance of economist John Kenneth Galbraith, IIT Kanpur was the first institute in India to offer Computer science education.[8][9] The earliest computer course was started at the institute in August 1963 on an IBM 1620 system. The initiative for computer education came from the Electrical engineering department, then under the chairmanship of Prof. H.K. Kesavan, who was concurrently the chairman of Electrical Engineering and head of the Computer Centre. Prof. Harry Huskey of the University of California, Berkeley, who preceded Kesavan, helped[8] with the computer activity at IIT-Kanpur.[8] In 1971, the institute began an independent academic program in Computer Science and Engineering, leading to MTech and PhD degrees.[8] In 1972 the KIAP program ended, in part because of political tensions between India and Pakistan (as the USA supported Pakistan). Government funding was also reduced as a reaction to the sentiment that the IITs were contributing to the brain drain.\\n[/INST]',\n",
              " 'temperature': 0,\n",
              " 'max_tokens': 1024}"
            ]
          },
          "metadata": {},
          "execution_count": 60
        }
      ]
    },
    {
      "cell_type": "code",
      "source": [
        "ai_response(data)"
      ],
      "metadata": {
        "colab": {
          "base_uri": "https://localhost:8080/",
          "height": 104
        },
        "id": "v-9-q-QeFcbG",
        "outputId": "d60870c5-22cc-4d86-a51d-005a787a5b97"
      },
      "execution_count": 53,
      "outputs": [
        {
          "output_type": "execute_result",
          "data": {
            "text/plain": [
              "'  Based on the provided context, the first program in IIT Kanpur was computer science education, which was started in August 1963. The initiative for computer education came from the Electrical engineering department, and Prof. Harry Huskey of the University of California, Berkeley, helped with the computer activity at IIT-Kanpur. In 1971, the institute began an independent academic program in Computer Science and Engineering, leading to MTech and PhD degrees.'"
            ],
            "application/vnd.google.colaboratory.intrinsic+json": {
              "type": "string"
            }
          },
          "metadata": {},
          "execution_count": 53
        }
      ]
    },
    {
      "cell_type": "markdown",
      "source": [
        "# Role Prompting"
      ],
      "metadata": {
        "id": "DFZZoGg7D9pK"
      }
    },
    {
      "cell_type": "code",
      "source": [
        "prompt_2 = f\"\"\"\n",
        "  Assume you are the director of IIT Kanpur, one of the most prestigious colleges of India. What is your role in IIT Kanpur?\n",
        "  context : {context}\n",
        "\"\"\""
      ],
      "metadata": {
        "id": "uUzd_RQJDmyG"
      },
      "execution_count": 54,
      "outputs": []
    },
    {
      "cell_type": "code",
      "source": [
        "prompt2 = f\"[INST] {prompt_2} [/INST]\""
      ],
      "metadata": {
        "id": "sUHQO84nETzg"
      },
      "execution_count": 55,
      "outputs": []
    },
    {
      "cell_type": "code",
      "source": [
        "data2 = jsonData(model, prompt2, temperature=0.3, max_tokens = 1024)\n",
        "# Note the higher temperature as we don't want an exact answer from the context now"
      ],
      "metadata": {
        "id": "SK_RSCsOEvGV"
      },
      "execution_count": 61,
      "outputs": []
    },
    {
      "cell_type": "code",
      "source": [
        "ai_response(data2)"
      ],
      "metadata": {
        "colab": {
          "base_uri": "https://localhost:8080/",
          "height": 452
        },
        "id": "TaKC-PRJEzvF",
        "outputId": "c2dc875a-ee04-49e4-ec3b-2f2935652ff3"
      },
      "execution_count": 57,
      "outputs": [
        {
          "output_type": "execute_result",
          "data": {
            "text/plain": [
              "\"  As the Director of IIT Kanpur, my role is to provide strategic leadership and vision to the institute, while ensuring its academic excellence and growth. My key responsibilities include:\\n\\n1. Providing overall direction and guidance to the institute: I am responsible for setting the institute's goals, objectives, and strategic plans, and ensuring that they are aligned with the needs of the nation and the global community.\\n2. Ensuring academic excellence: IIT Kanpur is known for its rigorous academic programs, and I work closely with the faculty to ensure that the institute maintains its high standards of teaching, research, and innovation.\\n3. Building partnerships and collaborations: IIT Kanpur has established partnerships with leading universities and organizations around the world, and I work to expand these collaborations to enhance the institute's global reputation and impact.\\n4. Managing resources: As the Director, I am responsible for managing the institute's resources, and ensuring that they are used effectively and efficiently to achieve the institute's goals.\\n5. Representing the institute: I act as the public face of IIT Kanpur, representing the institute at national and international forums, and building relationships with industry, government, and other stakeholders.\\n6. Ensuring student welfare: IIT Kanpur has a large student body, and I work to ensure that their needs are met, and that they have access to the resources and support they require to succeed.\\n7. Fostering innovation and entrepreneurship: IIT Kanpur has a strong culture of innovation and entrepreneurship, and I work to encourage and support students and faculty in their entrepreneurial endeavors.\\n8. Ensuring the institute's financial health: IIT Kanpur relies on a combination of government funding and private donations to support its operations, and I work to ensure that the institute's financial resources are properly managed and allocated.\\n9. Managing the institute's infrastructure: IIT Kanpur has a large and complex infrastructure, and I work to ensure that it is well-maintained and upgraded to support the institute's academic and research programs.\\n10. Ensuring compliance with regulations: IIT Kanpur is subject to a range of regulations and standards, and I work to ensure that the institute complies with these requirements, and that its operations are transparent and accountable.\\n\\nOverall, my role as Director of IIT Kanpur is to provide strategic leadership and vision, while ensuring the institute's academic excellence, financial health, and compliance with regulations.\""
            ],
            "application/vnd.google.colaboratory.intrinsic+json": {
              "type": "string"
            }
          },
          "metadata": {},
          "execution_count": 57
        }
      ]
    },
    {
      "cell_type": "markdown",
      "source": [
        "# Multi Turn Chat Prompting"
      ],
      "metadata": {
        "id": "nefU_TRIF6Og"
      }
    },
    {
      "cell_type": "code",
      "source": [
        "prompt3 = f\"\"\"[INST]\n",
        "  I am a fresher in IIT Kanpur, a college with one of the most competitive curriculums in the country. I could not perform to my expectations in the Mid semester exam. You are a close friend of mine. Motivate me to keep working hard for endsems.\n",
        "[/INST]\"\"\""
      ],
      "metadata": {
        "id": "JybZU5fcFnTm"
      },
      "execution_count": 69,
      "outputs": []
    },
    {
      "cell_type": "code",
      "source": [
        "data3 = jsonData(model, prompt3, temperature=0.5, max_tokens = 1024)"
      ],
      "metadata": {
        "id": "965PTQ_NHgpZ"
      },
      "execution_count": 70,
      "outputs": []
    },
    {
      "cell_type": "code",
      "source": [
        "response1 = ai_response(data3)\n",
        "print(response1)"
      ],
      "metadata": {
        "colab": {
          "base_uri": "https://localhost:8080/"
        },
        "id": "WkzPox_iHof1",
        "outputId": "804e7206-a11b-4678-d799-db5f1042db8c"
      },
      "execution_count": 71,
      "outputs": [
        {
          "output_type": "stream",
          "name": "stdout",
          "text": [
            "  Hey there, my dear friend! 😊\n",
            "\n",
            "OMG, I can totally relate to your situation! 😱 Being in IIT Kanpur is no joke, and the competition is fierce, to say the least. 💪 But listen, you got this! 💯\n",
            "\n",
            "First of all, don't beat yourself up over that mid-semester exam. Shit happens, and it's totally normal to have a bad day every now and then. 🙅‍♂️ What's important is that you learn from your mistakes and keep moving forward. 💪\n",
            "\n",
            "So, here's what you gotta do:\n",
            "\n",
            "1. Take a deep breath and chill out! 😌 You got this, and you're gonna crush those end-semester exams! 💥\n",
            "2. Make a plan of action! 📝 Identify the areas where you need to improve, and work on them. Don't just wing it, my friend! 💡\n",
            "3. Stay focused and motivated! 🔥 You gotta keep your eyes on the prize and remind yourself why you started this journey in the first place. 💪\n",
            "4. Seek help when you need it! 🤝 Don't be afraid to ask your peers or professors for help. They're there to support you, and you're not alone in this! 👫\n",
            "5. Take care of yourself! 🧖‍♀️ Make sure you're getting enough sleep, eating well, and taking breaks when you need them. You gotta keep your body and mind in top shape to tackle those exams! 🏋️‍♀️\n",
            "\n",
            "And hey, here's a little secret: 🤫 You got this, my friend! 💯 You're a badass fresher who's gonna kick some serious ass in those end-semester exams! 💥 So go out there, crush it, and make us all proud! 🙌\n",
            "\n",
            "Now, go out there and show the world what you're made of! 💪🏼 And remember, I'm always here to support you, no matter what! 🤗\n",
            "\n",
            "Cheers to your success, my friend! 🥳\n"
          ]
        }
      ]
    },
    {
      "cell_type": "code",
      "source": [
        "prompt4 = \"Why should I believe you? I've gotten lower marks than everyone i know? Will I get good marks?\"\n",
        "\n",
        "prompt = f\"\"\"\n",
        "  <s> [INST] {prompt3} [/INST] {response1} </s>\n",
        "  <s> [INST]  [/INST]\n",
        "\"\"\""
      ],
      "metadata": {
        "id": "zcY3MavdHrVX"
      },
      "execution_count": 72,
      "outputs": []
    },
    {
      "cell_type": "code",
      "source": [
        "data = jsonData(model, prompt, temperature=0.5, max_tokens = 1024)"
      ],
      "metadata": {
        "id": "8ihhoVgNIcdb"
      },
      "execution_count": 73,
      "outputs": []
    },
    {
      "cell_type": "code",
      "source": [
        "response2 = ai_response(data)\n",
        "print(response2)"
      ],
      "metadata": {
        "colab": {
          "base_uri": "https://localhost:8080/"
        },
        "id": "80SDVJ76IfsR",
        "outputId": "9c040d61-3c3b-4f0f-fd86-8ae33baadc70"
      },
      "execution_count": 74,
      "outputs": [
        {
          "output_type": "stream",
          "name": "stdout",
          "text": [
            "\n",
            "Of course, my friend! 😊 Here are some additional tips to help you stay motivated and focused:\n",
            "\n",
            "1. Set achievable goals: Break down your goals into smaller, achievable tasks. This will help you stay on track and motivated.\n",
            "2. Create a study schedule: Plan out your study schedule in advance. Set aside dedicated time each day to study and review your notes.\n",
            "3. Find a study buddy: Having a study buddy can help keep you motivated and accountable. You can quiz each other, discuss difficult topics, and share resources.\n",
            "4. Take breaks: It's important to take breaks and give your brain a rest. Schedule breaks into your study routine to avoid burnout.\n",
            "5. Stay organized: Keep all of your notes and study materials organized. This will help you quickly find what you need when you need it.\n",
            "6. Use active learning techniques: Active learning techniques, such as summarizing your notes in your own words or creating flashcards, can help you retain information better.\n",
            "7. Seek help when needed: Don't be afraid to ask for help if you're struggling with a concept. You can ask your professor, a tutor, or a classmate for assistance.\n",
            "8. Stay positive: Believe in yourself and stay positive. Remind yourself that you can do it, and that you've worked hard to get to where you are.\n",
            "9. Celebrate your successes: Celebrate your small victories along the way. This will help you stay motivated and encouraged.\n",
            "10. Take care of yourself: Make sure you're getting enough sleep, eating well, and exercising regularly. Taking care of your physical and mental health is important for your overall well-being and academic performance.\n",
            "\n",
            "Remember, my friend, you got this! 💪🏼 You've got the skills, the knowledge, and the determination to succeed. Just stay focused, stay motivated, and keep pushing forward! 💥\n"
          ]
        }
      ]
    },
    {
      "cell_type": "markdown",
      "source": [
        "# Summarising conversations"
      ],
      "metadata": {
        "id": "MoGZpb9CIu_M"
      }
    },
    {
      "cell_type": "code",
      "source": [
        "prompt = f\"\"\"\n",
        "  <s> [INST] {prompt3} [/INST] {response1} </s>\n",
        "  <s> [INST] {prompt4} [/INST] {response2} </s>\n",
        "  <s> [INST] Summarise the situation as a neutral narrator [/INST]\n",
        "\"\"\""
      ],
      "metadata": {
        "id": "Lbd6rwXxIiwd"
      },
      "execution_count": 75,
      "outputs": []
    },
    {
      "cell_type": "code",
      "source": [
        "data = jsonData(model, prompt, temperature=0, max_tokens = 1024)"
      ],
      "metadata": {
        "id": "cbKpQHHiJbU8"
      },
      "execution_count": 76,
      "outputs": []
    },
    {
      "cell_type": "code",
      "source": [
        "summary = ai_response(data)\n",
        "print(summary)"
      ],
      "metadata": {
        "colab": {
          "base_uri": "https://localhost:8080/"
        },
        "id": "TMxaz9wHJfwD",
        "outputId": "9a425081-13b6-46a8-ed13-6a408e2acdf7"
      },
      "execution_count": 77,
      "outputs": [
        {
          "output_type": "stream",
          "name": "stdout",
          "text": [
            "Certainly! Here's a neutral summary of the situation:\n",
            "\n",
            "The speaker is a fresher in IIT Kanpur, a prestigious engineering college in India, and is feeling discouraged after performing poorly in a mid-semester exam. The speaker's friend is trying to motivate them by highlighting the importance of hard work and perseverance, and offering words of encouragement. The friend reminds the speaker that everyone has bad days and that it's important to learn from mistakes and keep moving forward. The friend also provides some practical tips for staying motivated and focused, such as setting achievable goals, creating a study schedule, finding a study buddy, and taking breaks. The friend concludes by emphasizing the importance of self-belief and staying positive, and encourages the speaker to keep pushing forward.\n"
          ]
        }
      ]
    }
  ]
}